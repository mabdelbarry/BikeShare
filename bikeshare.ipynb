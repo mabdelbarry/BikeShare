{
  "nbformat": 4,
  "nbformat_minor": 0,
  "metadata": {
    "colab": {
      "name": "bikeshare.ipynb",
      "provenance": [],
      "collapsed_sections": [],
      "mount_file_id": "1qh2YOXeRMX7HArPqfmNiFomvlbYGv2vY",
      "authorship_tag": "ABX9TyNxMqVH8UmbwNjVMCK5oucM",
      "include_colab_link": true
    },
    "kernelspec": {
      "name": "python3",
      "display_name": "Python 3"
    },
    "language_info": {
      "name": "python"
    }
  },
  "cells": [
    {
      "cell_type": "markdown",
      "metadata": {
        "id": "view-in-github",
        "colab_type": "text"
      },
      "source": [
        "<a href=\"https://colab.research.google.com/github/mabdelbarry/BikeShare/blob/main/bikeshare.ipynb\" target=\"_parent\"><img src=\"https://colab.research.google.com/assets/colab-badge.svg\" alt=\"Open In Colab\"/></a>"
      ]
    },
    {
      "cell_type": "code",
      "metadata": {
        "colab": {
          "base_uri": "https://localhost:8080/"
        },
        "id": "DfYGyaVegk_l",
        "outputId": "cf2d060e-d59a-46c1-8119-230b058bd106"
      },
      "source": [
        "import pandas as pd\n",
        "import numpy as np\n",
        "import io\n",
        "import time\n",
        "from google.colab import drive\n",
        "drive.mount('/content/drive')"
      ],
      "execution_count": 25,
      "outputs": [
        {
          "output_type": "stream",
          "name": "stdout",
          "text": [
            "Drive already mounted at /content/drive; to attempt to forcibly remount, call drive.mount(\"/content/drive\", force_remount=True).\n"
          ]
        }
      ]
    },
    {
      "cell_type": "code",
      "metadata": {
        "id": "PenwDiZA8YWk"
      },
      "source": [
        "CITY_DATA = { 'chicago': '/content/drive/MyDrive/Colab Notebooks/chicago.csv',\n",
        "              'new york': '/content/drive/MyDrive/Colab Notebooks/new_york_city.csv',\n",
        "              'washington': '/content/drive/MyDrive/Colab Notebooks/washington.csv' }\n"
      ],
      "execution_count": 26,
      "outputs": []
    },
    {
      "cell_type": "code",
      "metadata": {
        "id": "lD8NZ3Qm9hLl"
      },
      "source": [
        "def get_filters():\n",
        "    \"\"\"\n",
        "    Asks user to specify a city, month, and day to analyze.\n",
        "\n",
        "    Returns:\n",
        "        (str) city - name of the city to analyze\n",
        "        (str) month - name of the month to filter by, or \"all\" to apply no month filter\n",
        "        (str) day - name of the day of week to filter by, or \"all\" to apply no day filter\n",
        "    \"\"\"\n",
        "    print('Hello! Let\\'s explore some US bikeshare data!')\n",
        "    month = None\n",
        "    day = None\n",
        "\n",
        "    while True:\n",
        "      city = input('would you like to see data for Chicago, New york, Washington? ')\n",
        "      if city.lower() in CITY_DATA:\n",
        "        break\n",
        "      print('Invalid input, please choose a city from the mentioned ')\n",
        "\n",
        "    months = [\"january\",\"february\",\"march\",\"april\",\"may\",\"june\"]\n",
        "    Chosen_filter = input(\"Do you want to filter on ( month , day , both , none): \")\n",
        "   \n",
        "    if Chosen_filter.lower() == 'month' or  Chosen_filter.lower() == 'both': \n",
        "        while True:\n",
        "          month = input(\"Please choose a month from {} or choose 'all': \".format([month.title() for month in months]))\n",
        "          if month.lower() in months or month.lower() == 'all':\n",
        "            break\n",
        "\n",
        "    days=['saturday', 'sunday', 'monday','tuesday', 'wednesday', 'thursday', 'friday']\n",
        "    if Chosen_filter.lower() == 'day' or Chosen_filter.lower() == 'both':\n",
        "      while True:\n",
        "         day=input(\"Please  choose a day from {} or choose 'all' : \".format([day.title() for day in days]))  \n",
        "         if day.lower() in days or day.lower() == 'all':\n",
        "           break\n",
        "         print(\"invalid input,please try again \")\n",
        "    if not month:\n",
        "      month=\"all\"\n",
        "    if not day:\n",
        "      day='all'  \n",
        "    print('-'*40)\n",
        "    return city,month,day\n",
        "   \n",
        "    \n",
        "    "
      ],
      "execution_count": 27,
      "outputs": []
    },
    {
      "cell_type": "code",
      "metadata": {
        "id": "01Ta7VtmM0UY"
      },
      "source": [
        "\n",
        "def load_data(city, month, day):\n",
        "    \"\"\"\n",
        "    Loads data for the specified city and filters by month and day if applicable.\n",
        "\n",
        "    Args:\n",
        "        (str) city - name of the city to analyze\n",
        "        (str) month - name of the month to filter by, or \"all\" to apply no month filter\n",
        "        (str) day - name of the day of week to filter by, or \"all\" to apply no day filter\n",
        "    Returns:\n",
        "        df - Pandas DataFrame containing city data filtered by month and day\n",
        "    \"\"\"\n",
        "    df = pd.read_csv(CITY_DATA[city])\n",
        "    # Creating new columns (month & day)\n",
        "    df['Start Time'] = pd.to_datetime(df['Start Time'])\n",
        "    df['month'] = df['Start Time'].dt.month_name()\n",
        "    df['day'] = df['Start Time'].dt.day_name()\n",
        "    # Filter data by the chosen month\n",
        "    if month.lower() != 'all':\n",
        "       df = df[df['month'] == month.title()]\n",
        "    # Filter data by the chosen day\n",
        "    if day.lower() != 'all':\n",
        "       df = df[df['day'] == day.title()]\n",
        "    return df\n",
        "\n",
        "\n"
      ],
      "execution_count": 28,
      "outputs": []
    },
    {
      "cell_type": "code",
      "metadata": {
        "id": "tUwkG2jH2h6k"
      },
      "source": [
        "def time_stats(df):\n",
        "    \"\"\"Displays statistics on the most frequent times of travel.\"\"\"\n",
        "\n",
        "    print('\\nCalculating The Most Frequent Times of Travel...\\n')\n",
        "    start_time = time.time()\n",
        "\n",
        "    # TO DO: display the most common month\n",
        "    month = df['month'].mode()[0]\n",
        "    print(f'The most common month is:{month} ')\n",
        "    # TO DO: display the most common day of week\n",
        "    day = df['day'].mode()[0]\n",
        "    print(f'The most common day is:{day} ')\n",
        "    # TO DO: display the most common start hour\n",
        "    df['hour'] = df['Start Time'].dt.hour\n",
        "    hour = df['hour'].mode()[0]\n",
        "    print(f'The most common hour is:{hour} ')\n",
        "\n",
        "    print(\"\\nThis took %s seconds.\" % (time.time() - start_time))\n",
        "    print('-'*40)\n",
        "\n",
        "\n",
        "def station_stats(df):\n",
        "    \"\"\"Displays statistics on the most popular stations and trip.\"\"\"\n",
        "\n",
        "    print('\\nCalculating The Most Popular Stations and Trip...\\n')\n",
        "    start_time = time.time()\n",
        "\n",
        "    # TO DO: display most commonly used start station\n",
        "    most_start_station = df['Start Station'].mode()[0]\n",
        "    print(f'The most popular start station is : {most_start_station}')\n",
        "\n",
        "    # TO DO: display most commonly used end station\n",
        "    most_end_station = df['End Station'].mode()[0]\n",
        "    print(f'The most popular end station is : {most_end_station}')\n",
        "\n",
        "    # TO DO: display most frequent combination of start station and end station trip\n",
        "    df['frequent_trip'] = 'From '+df['Start Station']+' To'+df['End Station']\n",
        "    most_frequent_trip=df['frequent_trip'].mode()[0]\n",
        "    print('The most popular trip is: {most_frequent_trip}')\n",
        "    print(\"\\nThis took %s seconds.\" % (time.time() - start_time))\n",
        "    print('-'*40) \n",
        "\n",
        "def trip_duration_stats(df):\n",
        "    #\"\"\"Displays statistics on the total and average trip duration.\"\"\"\n",
        "\n",
        "    start_time = time.time()\n",
        "\n",
        "    # TO DO: display total travel time\n",
        "    travel_time = pd.to_datetime(df['End Time'])-pd.to_datetime(df['Start Time'])\n",
        "    total_travel_time = (travel_time).sum()\n",
        "    days = total_travel_time.days\n",
        "    hours = total_travel_time.seconds // (60*60)\n",
        "    minutes = total_travel_time.seconds % (60*60)//60\n",
        "    seconds = total_travel_time.seconds % (60*60)%60\n",
        "    print(f'The total travel time is {days} days and {hours} hours and {minutes} minutes and {seconds} seconds.')\n",
        "    # TO DO: display mean travel time\n",
        "    travel_time = pd.to_datetime(df['End Time'])-pd.to_datetime(df['Start Time'])\n",
        "    average_travel_time = (travel_time).mean()\n",
        "    days = average_travel_time.days\n",
        "    hours = average_travel_time.seconds // (60*60)\n",
        "    minutes = average_travel_time.seconds % (60*60)//60\n",
        "    seconds = average_travel_time.seconds % (60*60)%60\n",
        "    print(f'The average travel time is {days} days and {hours} hours and {minutes} minutes and {seconds} seconds.')\n",
        "\n",
        "    print(\"\\nThis took %s seconds.\" % (time.time() - start_time))\n",
        "    print('-'*40)\n",
        "\n",
        "\n",
        "def user_stats(df):\n",
        "    \"\"\"Displays statistics on bikeshare users.\"\"\"\n",
        "\n",
        "    print('\\nCalculating User Stats...\\n')\n",
        "    start_time = time.time()\n",
        "\n",
        "    # TO DO: Display counts of user types\n",
        "    print(df['User Type'].value_counts())\n",
        "\n",
        "    # TO DO: Display counts of gender\n",
        "    print(df['Gender'].value_counts())\n",
        "\n",
        "    # TO DO: Display earliest, most recent, and most common year of birth\n",
        "    years = df['Birth Year']\n",
        "    min = years.min()\n",
        "    max = years.max()\n",
        "    mode = years.mode()[0]\n",
        "    print(f'The most early birthyear is {min} and the newest is {max} and the most common is {mode}')\n",
        "\n",
        "    print(\"\\nThis took %s seconds.\" % (time.time() - start_time))\n",
        "    print('-'*40)\n",
        "# Raw Data\n",
        "def raw_data(df):\n",
        "    raw_question = input(\"Do you want to display 5 rows of data? \")  \n",
        "    if raw_question.lower() == 'yes':\n",
        "      count=0\n",
        "      while True:\n",
        "        print(df.iloc[count:count+5])\n",
        "        count += 5\n",
        "        new_question = input('Would you like to view another 5 rows?')\n",
        "        if new_question.lower() != 'yes':\n",
        "          break"
      ],
      "execution_count": 34,
      "outputs": []
    },
    {
      "cell_type": "code",
      "metadata": {
        "colab": {
          "base_uri": "https://localhost:8080/"
        },
        "id": "VFVAE1yEwxGw",
        "outputId": "6dd9662a-c219-43d2-aca0-9c148fb55aa4"
      },
      "source": [
        "def main():\n",
        "    while True:\n",
        "        city, month, day = get_filters()\n",
        "        df = load_data(city, month, day)\n",
        "\n",
        "        time_stats(df)\n",
        "        station_stats(df)\n",
        "        trip_duration_stats(df)\n",
        "        user_stats(df)\n",
        "        raw_data(df)\n",
        "        restart = input('\\nWould you like to restart? Enter yes or no.\\n')\n",
        "        if restart.lower() != 'yes':\n",
        "            break\n",
        "\n",
        "\n",
        "if __name__ == \"__main__\":\n",
        "\tmain()"
      ],
      "execution_count": 35,
      "outputs": [
        {
          "name": "stdout",
          "output_type": "stream",
          "text": [
            "Hello! Let's explore some US bikeshare data!\n",
            "would you like to see data for Chicago, New york, Washington? chicago\n",
            "Do you want to filter on ( month , day , both , none): none\n",
            "----------------------------------------\n",
            "\n",
            "Calculating The Most Frequent Times of Travel...\n",
            "\n",
            "The most common month is:June \n",
            "The most common day is:Tuesday \n",
            "The most common hour is:17 \n",
            "\n",
            "This took 0.10702919960021973 seconds.\n",
            "----------------------------------------\n",
            "\n",
            "Calculating The Most Popular Stations and Trip...\n",
            "\n",
            "The most popular start station is : Streeter Dr & Grand Ave\n",
            "The most popular end station is : Streeter Dr & Grand Ave\n",
            "The most popular trip is: {most_frequent_trip}\n",
            "\n",
            "This took 0.3458881378173828 seconds.\n",
            "----------------------------------------\n",
            "The total travel time is 3250 days and 21 hours and 56 minutes and 27 seconds.\n",
            "The average travel time is 0 days and 0 hours and 15 minutes and 36 seconds.\n",
            "\n",
            "This took 0.14986038208007812 seconds.\n",
            "----------------------------------------\n",
            "\n",
            "Calculating User Stats...\n",
            "\n",
            "Subscriber    238889\n",
            "Customer       61110\n",
            "Dependent          1\n",
            "Name: User Type, dtype: int64\n",
            "Male      181190\n",
            "Female     57758\n",
            "Name: Gender, dtype: int64\n",
            "The most early birthyear is 1899.0 and the newest is 2016.0 and the most common is 1989.0\n",
            "\n",
            "This took 0.06959819793701172 seconds.\n",
            "----------------------------------------\n",
            "Do you want to display 5 rows of data? no\n",
            "\n",
            "Would you like to restart? Enter yes or no.\n",
            "no\n"
          ]
        }
      ]
    }
  ]
}